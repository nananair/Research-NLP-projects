{
  "nbformat": 4,
  "nbformat_minor": 0,
  "metadata": {
    "colab": {
      "provenance": [],
      "authorship_tag": "ABX9TyPte2jlYUBG83bE7mxk/40p",
      "include_colab_link": true
    },
    "kernelspec": {
      "name": "python3",
      "display_name": "Python 3"
    },
    "language_info": {
      "name": "python"
    }
  },
  "cells": [
    {
      "cell_type": "markdown",
      "metadata": {
        "id": "view-in-github",
        "colab_type": "text"
      },
      "source": [
        "<a href=\"https://colab.research.google.com/github/nananair/Research-NLP-projects/blob/main/Distributional_analysis_toolkit.ipynb\" target=\"_parent\"><img src=\"https://colab.research.google.com/assets/colab-badge.svg\" alt=\"Open In Colab\"/></a>"
      ]
    },
    {
      "cell_type": "markdown",
      "source": [
        "This notebook accompanies the article: \"Methodological pathways to studying the shareability of news values\"\n",
        "\n",
        "It offers a quartile-based distributional analysis for examining the shareability of news values.\n",
        "\n",
        "To use this notebook: simply upload your labelled dataset (Excel or CSV). No coding experience is required.\n"
      ],
      "metadata": {
        "id": "iXNbodL8FFcL"
      }
    },
    {
      "cell_type": "code",
      "source": [
        "import pandas as pd\n",
        "import matplotlib.pyplot as plt\n",
        "import seaborn as sns\n",
        "import statsmodels.api as sm\n"
      ],
      "metadata": {
        "id": "SQO5641GFZ0U"
      },
      "execution_count": null,
      "outputs": []
    },
    {
      "cell_type": "code",
      "source": [
        "# Upload dataset\n",
        "\n",
        "from google.colab import files\n",
        "\n",
        "print(\"Please upload your labelled dataset (Excel or CSV).\")\n",
        "uploaded = files.upload()\n",
        "\n",
        "for filename in uploaded.keys():\n",
        "    if filename.endswith(\".xlsx\"):\n",
        "        df = pd.read_excel(filename)\n",
        "    elif filename.endswith(\".csv\"):\n",
        "        df = pd.read_csv(filename)\n",
        "    else:\n",
        "        raise ValueError(\"File must be .xlsx or .csv\")\n",
        "    break\n",
        "\n",
        "print(\"Dataset loaded successfully\")\n",
        "df.head()\n"
      ],
      "metadata": {
        "id": "Pu7y9vQwFxnM"
      },
      "execution_count": null,
      "outputs": []
    },
    {
      "cell_type": "code",
      "source": [
        "# Check dataset structure\n",
        "# Your dataset should have columns like \"Share counts\", \"Negativity\", \"Impact\", \"Article\", etc.\n",
        "\n",
        "df.info()\n",
        "print(df.head())\n"
      ],
      "metadata": {
        "id": "OsJZAKo2F49S"
      },
      "execution_count": null,
      "outputs": []
    },
    {
      "cell_type": "code",
      "source": [
        "# Analysis\n",
        "\n",
        "news_values = [\n",
        "    \"Negativity\",\n",
        "    \"Positivity\",\n",
        "    \"Impact\",\n",
        "    \"Personalisation\",\n",
        "    \"Eliteness\",\n",
        "    \"Superlativeness\",\n",
        "    \"Consonance\",\n",
        "    \"Unexpectedness\",\n",
        "    \"Proximity\",\n",
        "    \"Timeliness\"\n",
        "]\n",
        "\n",
        "df[\"Share Quartile\"] = pd.qcut(df[\"Share counts\"], q=4, labels=[\"Q1\", \"Q2\", \"Q3\", \"Q4\"])\n",
        "avg_scores = df.groupby(\"Share Quartile\")[news_values].mean().reset_index()\n",
        "\n",
        "plt.figure(figsize=(8,6))\n",
        "sns.lineplot(data=avg_scores, x=\"Share Quartile\", y=\"Negativity\", marker=\"o\", label=\"Negativity\")\n",
        "sns.lineplot(data=avg_scores, x=\"Share Quartile\", y=\"Impact\", marker=\"o\", label=\"Impact\")\n",
        "sns.lineplot(data=avg_scores, x=\"Share Quartile\", y=\"Personalisation\", marker=\"o\", label=\"Personalisation\")\n",
        "plt.title(\"Average News Values across Share Quartiles\")\n",
        "plt.ylabel(\"Average frequency\")\n",
        "plt.legend()\n",
        "plt.show()\n"
      ],
      "metadata": {
        "id": "NB7gnl9KGVAB"
      },
      "execution_count": null,
      "outputs": []
    },
    {
      "cell_type": "code",
      "source": [
        "# Save results back to Excel\n",
        "\n",
        "df.to_excel(\"shareworthiness_results.xlsx\", index=False)\n",
        "files.download(\"shareworthiness_results.xlsx\")\n"
      ],
      "metadata": {
        "id": "Uo_LRGGKHVJ9"
      },
      "execution_count": null,
      "outputs": []
    },
    {
      "cell_type": "markdown",
      "source": [
        "Done!  \n",
        "\n",
        "You have successfully run a shareworthiness analysis on your dataset.  \n",
        "This notebook is fully reproducible and can be adapted to any dataset annotated with news values.  \n"
      ],
      "metadata": {
        "id": "sZ4GwibzHYVf"
      }
    },
    {
      "cell_type": "code",
      "source": [],
      "metadata": {
        "id": "gAck1zW7HiNy"
      },
      "execution_count": null,
      "outputs": []
    }
  ]
}